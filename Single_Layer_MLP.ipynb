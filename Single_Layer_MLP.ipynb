{
 "cells": [
  {
   "cell_type": "code",
   "execution_count": 1,
   "id": "5047d041-8c68-4ca8-a785-eb8e4d58a4eb",
   "metadata": {},
   "outputs": [],
   "source": [
    "import pandas as pd"
   ]
  },
  {
   "cell_type": "code",
   "execution_count": 2,
   "id": "d344bd19-b97e-4eca-8f74-47df531216ce",
   "metadata": {},
   "outputs": [],
   "source": [
    "import numpy as np"
   ]
  },
  {
   "cell_type": "code",
   "execution_count": 3,
   "id": "379c9d4c-c6dc-4f9a-957c-ec9d9f3abe37",
   "metadata": {},
   "outputs": [],
   "source": [
    "from matplotlib import pyplot as plt"
   ]
  },
  {
   "cell_type": "markdown",
   "id": "2cf63944-957d-479d-ad80-ac400bc23d11",
   "metadata": {
    "tags": []
   },
   "source": [
    "<div style = \"text-align: center;\">\n",
    "    <h3> Accepting MNIST Data </h3>\n",
    "</div>"
   ]
  },
  {
   "cell_type": "code",
   "execution_count": 4,
   "id": "3c78e303-8bd0-4d59-a426-1f6c078c69a7",
   "metadata": {
    "tags": []
   },
   "outputs": [],
   "source": [
    "df = pd.read_csv(\"resource/mnist_train.csv\")\n",
    "data = np.array(df)\n",
    "training_examples = (data[:,1:])/255\n",
    "labels = data[:,0]"
   ]
  },
  {
   "cell_type": "markdown",
   "id": "1337106b-9b89-444d-9458-c8e5c2c5e4d6",
   "metadata": {},
   "source": [
    "<div style = \"text-align: center;\" >\n",
    "    <h3> Initializing Weights and Biases</h3>\n",
    "</div>"
   ]
  },
  {
   "cell_type": "code",
   "execution_count": 5,
   "id": "a7865c7f-6c86-45a0-a3f7-5546401f5cd9",
   "metadata": {
    "tags": []
   },
   "outputs": [],
   "source": [
    "def initialize_variables():\n",
    "    \"\"\"This function initialize the weights and the biases with some small values\"\"\"\n",
    "    \n",
    "    W1 = np.random.randn(10, 784) * np.sqrt(2 / 784)  # 784 input units\n",
    "    B1 = np.zeros((10, 1))  # Biases initialized to zero\n",
    "    \n",
    "    W2 = np.random.randn(10, 10) * np.sqrt(2 / 10)    # 10 input units\n",
    "    B2 = np.zeros((10, 1))  # Biases initialized to zero\n",
    "    \n",
    "    return W1,B1,W2,B2"
   ]
  },
  {
   "cell_type": "markdown",
   "id": "2738f89a-1912-4daa-991a-b0fac877f03e",
   "metadata": {},
   "source": [
    "<div style = \"text-align: center;\" >\n",
    "    <h3> Forward Propagation</h3>\n",
    "</div>"
   ]
  },
  {
   "cell_type": "markdown",
   "id": "303450da-d507-4820-b49b-2a0a0981b627",
   "metadata": {},
   "source": [
    "<h5> The RELU Function </h5>"
   ]
  },
  {
   "cell_type": "code",
   "execution_count": 6,
   "id": "19baf2e2-0019-4754-9a6b-d6f7e3de84b0",
   "metadata": {
    "tags": []
   },
   "outputs": [],
   "source": [
    "def RELU(Z):\n",
    "    \"\"\"This function acts just like ramp function\"\"\"\n",
    "    \n",
    "    return np.maximum(Z,0)"
   ]
  },
  {
   "cell_type": "markdown",
   "id": "996ab369-71bd-405c-9147-3569394fb80a",
   "metadata": {},
   "source": [
    "<h5>The Softmax Activation Function</h5>"
   ]
  },
  {
   "cell_type": "code",
   "execution_count": 7,
   "id": "87488eb7-8a15-42cd-b717-4680afb37ef7",
   "metadata": {
    "tags": []
   },
   "outputs": [],
   "source": [
    "def softmax(x):\n",
    "    \"\"\"\n",
    "    Compute the softmax of a 2D numpy array (matrix).\n",
    "    \n",
    "    Parameters:\n",
    "    x -- A 2D numpy array of shape (n, 1)\n",
    "    \n",
    "    Returns:\n",
    "    A 2D numpy array where the probabilities in each column sum to 1.\n",
    "    \"\"\"\n",
    "    # Subtract the max for numerical stability (applied to each column)\n",
    "    exp_x = np.exp(x - np.max(x, axis=0, keepdims=True))\n",
    "    \n",
    "    # Calculate the softmax probabilities for each column\n",
    "    return exp_x / exp_x.sum(axis=0, keepdims=True)\n"
   ]
  },
  {
   "cell_type": "markdown",
   "id": "2f4068ae-d2d8-48a3-a643-aab35aac6f52",
   "metadata": {},
   "source": [
    "<h5>Forward Propagation</h5>"
   ]
  },
  {
   "cell_type": "code",
   "execution_count": 8,
   "id": "65db783b-8bdd-4711-b398-0153da7266f6",
   "metadata": {},
   "outputs": [],
   "source": [
    "def Forward_propagation(A0,W1,B1,W2,B2):\n",
    "    \"\"\"This function concludes the forward propagation by giving the prediction of \n",
    "    the Neural Network in the form of probablity distribution\"\"\"\n",
    "    Z1 = np.matmul(W1,A0) + B1\n",
    "    A1 = RELU(Z1)\n",
    "    Z2 = np.matmul(W2,A1) + B2\n",
    "    A2 = softmax(Z2)\n",
    "    \n",
    "    return Z1,A1,Z2,A2"
   ]
  },
  {
   "cell_type": "markdown",
   "id": "1f40fe2e-f143-4e67-9de4-37f71f9c74ca",
   "metadata": {},
   "source": [
    "<h5> Get Prediction</h5>"
   ]
  },
  {
   "cell_type": "code",
   "execution_count": 9,
   "id": "c0c7f8d2-0af2-4c5f-b080-329a097c6e20",
   "metadata": {},
   "outputs": [],
   "source": [
    "def get_prediction(A2):\n",
    "    \"\"\"This function takes the probablity distribution and gives the actual predicted number\"\"\"\n",
    "    \n",
    "    return np.argmax(A2)"
   ]
  },
  {
   "cell_type": "markdown",
   "id": "5e22a5aa-ebff-4080-8af1-a3e127229602",
   "metadata": {},
   "source": [
    "<div style = \"text-align: center;\">\n",
    "    <h3> Backpropagation </h3>\n",
    "</div>"
   ]
  },
  {
   "cell_type": "markdown",
   "id": "70a9eb2b-beab-439a-bcfb-8d16868a1ae1",
   "metadata": {},
   "source": [
    "<h5>One hot Encoding</h5>"
   ]
  },
  {
   "cell_type": "code",
   "execution_count": 10,
   "id": "214b092c-91d3-4f6e-8df6-90438c5d16b5",
   "metadata": {},
   "outputs": [],
   "source": [
    "def one_hot_encoding(label):\n",
    "    \"\"\"This function return teh correct probablity distribution of the image\"\"\"\n",
    "    \n",
    "    zero_array = np.zeros((10,1))\n",
    "    zero_array[label] = 1\n",
    "    return zero_array"
   ]
  },
  {
   "cell_type": "markdown",
   "id": "0afabe01-57c8-4feb-9029-d6b5fa0efd29",
   "metadata": {},
   "source": [
    "<h5>RELU derivation</h5>"
   ]
  },
  {
   "cell_type": "code",
   "execution_count": 11,
   "id": "9f0970df-b1da-4ecc-8705-80d00828db80",
   "metadata": {},
   "outputs": [],
   "source": [
    "def RELU_derv(Z):\n",
    "    return np.heaviside(Z,0)"
   ]
  },
  {
   "cell_type": "markdown",
   "id": "3456d232-f644-433c-a495-a912ad9be614",
   "metadata": {
    "tags": []
   },
   "source": [
    "<h5>Backpropagation</h5>"
   ]
  },
  {
   "cell_type": "code",
   "execution_count": 12,
   "id": "312ff9a2-0ca0-4f8e-886a-72ae0dc5e643",
   "metadata": {},
   "outputs": [],
   "source": [
    "def Backpropagation(A0,A1,A2,Z1,W2,Y):\n",
    "    \"\"\"This function computes the gradient decent of the given probablity distributions\"\"\"\n",
    "    \n",
    "    dZ2 = A2 - Y\n",
    "    dW2 = np.matmul(dZ2,np.transpose(A1))\n",
    "    dB2 = dZ2\n",
    "    dA1 = np.matmul(np.transpose(W2),dZ2)\n",
    "    dZ1 = dA1 * RELU_derv(Z1)\n",
    "    dW1 = np.matmul(dZ1, np.transpose(A0))\n",
    "    dB1 = dZ1\n",
    "    \n",
    "    return dW2,dB2,dW1,dB1"
   ]
  },
  {
   "cell_type": "markdown",
   "id": "9ed264bc-46ca-48a4-8145-143d357d0368",
   "metadata": {},
   "source": [
    "<h5>Get Accuracy</h5>"
   ]
  },
  {
   "cell_type": "code",
   "execution_count": 13,
   "id": "03ca7ed6-ebba-4e73-842b-3f07b33e8860",
   "metadata": {},
   "outputs": [],
   "source": [
    "def get_accuracy(index,sum_true_pred,mini_batchSize):\n",
    "    \"\"\"This function returns the efficency of the neural net per mini_batchSize iteration\n",
    "    Which helps us to see how our efficency is changing\"\"\"\n",
    "    \n",
    "    efficency = sum_true_pred / (index//mini_batchSize)\n",
    "    return efficency \n",
    "    "
   ]
  },
  {
   "cell_type": "markdown",
   "id": "bc33cd93-7c3a-4a51-8c37-6a1e8a3a218f",
   "metadata": {},
   "source": [
    "<div style = \"text-align: center;\">\n",
    "    <h3>Training the Neural Network </h3>\n",
    "</div>"
   ]
  },
  {
   "cell_type": "code",
   "execution_count": 14,
   "id": "1aef4309-c70c-44dd-adb3-990f03354f75",
   "metadata": {},
   "outputs": [],
   "source": [
    "def training(mini_batchSize, alpha):\n",
    "    W1,B1,W2,B2 = initialize_variables()\n",
    "    sum_dW1, sum_dB1, sum_dW2, sum_dB2 = 0,0,0,0\n",
    "    sum_true_pred = 0\n",
    "    for index in range(len(training_examples)):\n",
    "        A0 = np.expand_dims(np.transpose(training_examples[index]), axis = 1)\n",
    "        Z1,A1,Z2,A2 = Forward_propagation(A0,W1,B1,W2,B2)\n",
    "        Y = one_hot_encoding(labels[index])\n",
    "        dW2,dB2,dW1,dB1 = Backpropagation(A0,A1,A2,Z1,W2,Y)\n",
    "        sum_dW1 += dW1\n",
    "        sum_dW2 += dW2\n",
    "        sum_dB1 += dB1\n",
    "        sum_dB2 += dB2\n",
    "        if (index > 0) and (index % mini_batchSize == 0):\n",
    "            W1 = W1 - alpha * (sum_dW1/mini_batchSize)\n",
    "            W2 = W2 - alpha *(sum_dW2/mini_batchSize)\n",
    "            B1 = B1 - alpha *(sum_dB1/mini_batchSize)\n",
    "            B2 = B2 - alpha *(sum_dB2/mini_batchSize)\n",
    "            sum_dW1, sum_dB1, sum_dW2, sum_dB2 = 0,0,0,0\n",
    "            # Now we check wether the accuracy is increasing every 100th iteration\n",
    "            _,_,_,A2 = Forward_propagation(A0,W1,B1,W2,B2)\n",
    "            prediction = get_prediction(A2)\n",
    "            if prediction == labels[index]:\n",
    "                sum_true_pred += 1\n",
    "            # efficency = get_accuracy(index,sum_true_pred,mini_batchSize)\n",
    "            # print(f\"Prediction: {prediction} and Label: {labels[index]}\")\n",
    "            # print(f\"efficency: {efficency}%\")\n",
    "    \n",
    "    return W1,B1,W2,B2,sum_true_pred"
   ]
  },
  {
   "cell_type": "code",
   "execution_count": 15,
   "id": "e4d8a3b0-4efd-4823-a4e6-1a533a2b7b80",
   "metadata": {},
   "outputs": [
    {
     "name": "stdout",
     "output_type": "stream",
     "text": [
      "efficency: 96.15833333333333%\n"
     ]
    }
   ],
   "source": [
    "W1,B1,W2,B2,sum_true_pred = training(5,0.1)\n",
    "efficency = (sum_true_pred / 12000) * 100\n",
    "print(f\"efficency: {efficency}%\")"
   ]
  },
  {
   "cell_type": "markdown",
   "id": "8983579f-82a0-4d22-8cb3-e23562d0063c",
   "metadata": {},
   "source": [
    "<div style = \"text-align: center;\" >\n",
    "    <h3> Testing The Neural Network </h3>\n",
    "</div>"
   ]
  },
  {
   "cell_type": "markdown",
   "id": "ba8efdb7-31e8-4857-9a05-a53c5ecce746",
   "metadata": {},
   "source": [
    "<h5>Getting test data</h5>"
   ]
  },
  {
   "cell_type": "code",
   "execution_count": 16,
   "id": "277e30f9-cd0d-4f8b-b3e7-4a9d3fe8f7a2",
   "metadata": {},
   "outputs": [],
   "source": [
    "df_test = pd.read_csv(\"resource/mnist_test.csv\")\n",
    "data_test = np.array(df_test)\n",
    "test_examples = (data_test[:,1:])/255\n",
    "test_labels = data_test[:,0]"
   ]
  },
  {
   "cell_type": "markdown",
   "id": "74dd73b5-16f0-4c96-b148-c150dc03dca2",
   "metadata": {},
   "source": [
    "<h5>Make prediction</h5>"
   ]
  },
  {
   "cell_type": "code",
   "execution_count": 17,
   "id": "17f22b14-3e81-4f3d-a444-0f05569e9e3f",
   "metadata": {},
   "outputs": [],
   "source": [
    "def make_prediction(W1,B1,W2,B2,A0):\n",
    "    \"\"\"This function makes prediction to test out neural network\"\"\"\n",
    "    \n",
    "    _,_,_,A2 = Forward_propagation(A0,W1,B1,W2,B2)\n",
    "    prediction = get_prediction(A2)\n",
    "    return prediction"
   ]
  },
  {
   "cell_type": "markdown",
   "id": "2d039342-b63b-44b6-bade-38a528cb8513",
   "metadata": {},
   "source": [
    "<h5>Test prediction</h5>"
   ]
  },
  {
   "cell_type": "code",
   "execution_count": 18,
   "id": "8d290773-b5e5-4b68-aa36-6491af1000e9",
   "metadata": {},
   "outputs": [],
   "source": [
    "def test_prediction(W1,B1,W2,B2,index):\n",
    "    image = test_examples[index]\n",
    "    A0 = np.expand_dims(np.transpose(image), axis = 1)\n",
    "    prediction = make_prediction(W1,B1,W2,B2,A0)\n",
    "    print(f\"Prediction: {prediction} and Label: {test_labels[index]}\")\n",
    "    \n",
    "    current_image = image.reshape((28, 28)) * 255\n",
    "    plt.gray()\n",
    "    plt.imshow(current_image, interpolation='nearest')\n",
    "    plt.show()\n",
    "    "
   ]
  },
  {
   "cell_type": "code",
   "execution_count": 19,
   "id": "b965ea93-e8ca-4840-9d07-7f9e177a5837",
   "metadata": {},
   "outputs": [
    {
     "name": "stdout",
     "output_type": "stream",
     "text": [
      "Prediction: 0 and Label: 0\n"
     ]
    },
    {
     "data": {
      "image/png": "[encoded data removed]",
      "text/plain": [
       "<Figure size 640x480 with 1 Axes>"
      ]
     },
     "metadata": {},
     "output_type": "display_data"
    },
    {
     "name": "stdout",
     "output_type": "stream",
     "text": [
      "Prediction: 6 and Label: 6\n"
     ]
    },
    {
     "data": {
      "image/png": "[encoded data removed]",
      "text/plain": [
       "<Figure size 640x480 with 1 Axes>"
      ]
     },
     "metadata": {},
     "output_type": "display_data"
    },
    {
     "name": "stdout",
     "output_type": "stream",
     "text": [
      "Prediction: 9 and Label: 9\n"
     ]
    },
    {
     "data": {
      "image/png": "[encoded data removed]",
      "text/plain": [
       "<Figure size 640x480 with 1 Axes>"
      ]
     },
     "metadata": {},
     "output_type": "display_data"
    },
    {
     "name": "stdout",
     "output_type": "stream",
     "text": [
      "Prediction: 0 and Label: 0\n"
     ]
    },
    {
     "data": {
      "image/png": "[encoded data removed]",
      "text/plain": [
       "<Figure size 640x480 with 1 Axes>"
      ]
     },
     "metadata": {},
     "output_type": "display_data"
    },
    {
     "name": "stdout",
     "output_type": "stream",
     "text": [
      "Prediction: 1 and Label: 1\n"
     ]
    },
    {
     "data": {
      "image/png": "[encoded data removed]",
      "text/plain": [
       "<Figure size 640x480 with 1 Axes>"
      ]
     },
     "metadata": {},
     "output_type": "display_data"
    },
    {
     "name": "stdout",
     "output_type": "stream",
     "text": [
      "Prediction: 5 and Label: 5\n"
     ]
    },
    {
     "data": {
      "image/png": "[encoded data removed]",
      "text/plain": [
       "<Figure size 640x480 with 1 Axes>"
      ]
     },
     "metadata": {},
     "output_type": "display_data"
    }
   ],
   "source": [
    "test_prediction(W1,B1,W2,B2,10)\n",
    "test_prediction(W1,B1,W2,B2,11)\n",
    "test_prediction(W1,B1,W2,B2,12)\n",
    "test_prediction(W1,B1,W2,B2,13)\n",
    "test_prediction(W1,B1,W2,B2,14)\n",
    "test_prediction(W1,B1,W2,B2,15)"
   ]
  },
  {
   "cell_type": "code",
   "execution_count": null,
   "id": "508b1ede-9072-4afd-b503-594ba1f7e16e",
   "metadata": {},
   "outputs": [],
   "source": []
  }
 ],
 "metadata": {
  "kernelspec": {
   "display_name": "Python 3 (ipykernel)",
   "language": "python",
   "name": "python3"
  },
  "language_info": {
   "codemirror_mode": {
    "name": "ipython",
    "version": 3
   },
   "file_extension": ".py",
   "mimetype": "text/x-python",
   "name": "python",
   "nbconvert_exporter": "python",
   "pygments_lexer": "ipython3",
   "version": "3.12.4"
  }
 },
 "nbformat": 4,
 "nbformat_minor": 5
}
